{
 "cells": [
  {
   "cell_type": "code",
   "execution_count": 1,
   "metadata": {},
   "outputs": [],
   "source": [
    "import requests\n",
    "import sqlite3 as sql\n",
    "import bs4 as bs\n",
    "import re\n",
    "import datetime \n",
    "\n",
    "base_url = 'https://www.imdb.com'"
   ]
  },
  {
   "cell_type": "code",
   "execution_count": 2,
   "metadata": {},
   "outputs": [
    {
     "data": {
      "text/plain": [
       "<sqlite3.Cursor at 0x7f47a0087f10>"
      ]
     },
     "execution_count": 2,
     "metadata": {},
     "output_type": "execute_result"
    }
   ],
   "source": [
    "# Create a database to store queries\n",
    "# Use Variables to store all table names for portability.\n",
    "table_name = 'TVSeries'\n",
    "column_names = {table_name:['USER_EMAIL','TVSERIES']}\n",
    "database_name='user_tv_series.db'\n",
    "\n",
    "conn = sql.connect(database_name)\n",
    "cur = conn.cursor()\n",
    "cur.execute('CREATE TABLE IF NOT EXISTS {}'.format(table_name)+'({0} TEXT NOT NULL,{1} TEXT)'.format(*column_names[table_name]))"
   ]
  },
  {
   "cell_type": "code",
   "execution_count": 3,
   "metadata": {},
   "outputs": [],
   "source": [
    "# take input\n",
    "email = 'soham'# input(\"Enter email address:\")\n",
    "tv_string = 'Game of thrones, suits, friends, black mirror, gotham' # input(\"Enter TV series names seperated by a string\")"
   ]
  },
  {
   "cell_type": "code",
   "execution_count": 4,
   "metadata": {},
   "outputs": [],
   "source": [
    "tv_string = tv_string.replace(' ','+')\n",
    "tv_list = tv_string.split(',')"
   ]
  },
  {
   "cell_type": "code",
   "execution_count": 5,
   "metadata": {},
   "outputs": [],
   "source": [
    "def search_tv_series_soup(tv_series_title):\n",
    "    search_link = base_url + '/search/title'\n",
    "    params = {'title':tv_series_title,'title_type':'tv_series'}\n",
    "    tvr = requests.request('GET', url = search_link, params = params)\n",
    "    tvr_soup = bs.BeautifulSoup(tvr.text,'lxml')\n",
    "    return tvr_soup"
   ]
  },
  {
   "cell_type": "code",
   "execution_count": 11,
   "metadata": {},
   "outputs": [],
   "source": [
    "# This function returns link to the page of given tv series.\n",
    "def find_tv_series_page_link(tv_series_title):\n",
    "    if type(tv_series_title)!= str:\n",
    "        print('Invalid argument data type passed to find_link function')\n",
    "    \n",
    "    # get search results in html\n",
    "    tvr_soup = search_tv_series_soup(tv_series_title)\n",
    "    tv_temp = tv_series_title.lower().replace('+','')\n",
    "    tv_temp = tv_series_title.lower().replace(' ','')\n",
    "    for a in tvr_soup.findAll('a', href= True):\n",
    "        stemp = str(a.string)\n",
    "        if tv_temp in stemp.lower().replace(' ',''):\n",
    "            link = a['href']\n",
    "            break\n",
    "    return base_url+link[0:link.find('?')-1]"
   ]
  },
  {
   "cell_type": "code",
   "execution_count": 7,
   "metadata": {},
   "outputs": [
    {
     "data": {
      "text/plain": [
       "'https://www.imdb.com/title/tt0108778'"
      ]
     },
     "execution_count": 7,
     "metadata": {},
     "output_type": "execute_result"
    }
   ],
   "source": [
    "find_tv_series_page_link('friends   ')\n",
    " "
   ]
  },
  {
   "cell_type": "code",
   "execution_count": 12,
   "metadata": {},
   "outputs": [
    {
     "name": "stdout",
     "output_type": "stream",
     "text": [
      "https://www.imdb.com/title/tt0108778/episodes?year=2018\n"
     ]
    }
   ],
   "source": [
    "def get_episodes_page(tv_series_title, yyyy):\n",
    "    link = find_tv_series_page_link(tv_series_title)\n",
    "    params = {'year': yyyy}\n",
    "    eps_resp = requests.request('GET', link + '/episodes', params = params)\n",
    "    print(eps_resp.url)\n",
    "    eps_soup = bs.BeautifulSoup(eps_resp.text, 'lxml')\n",
    "    return eps_soup\n",
    "a = get_episodes_page('friends', 2018)"
   ]
  },
  {
   "cell_type": "code",
   "execution_count": 24,
   "metadata": {},
   "outputs": [],
   "source": [
    "# This function gets episode date in datetime format from the html value passed to it\n",
    "def get_ep_date(ep):\n",
    "    ep_text = ep.text.replace(' ','')\n",
    "    list_ep_date = ep_text.split()[0]\n",
    "    try:\n",
    "        ep_date = datetime.datetime.strptime(ep_text,'\\n%d%b.%Y\\n')\n",
    "    except ValueError:\n",
    "        try:\n",
    "            ep_date = datetime.datetime.strptime(ep_text,'\\n%d%b%Y\\n')\n",
    "        except ValueError:\n",
    "            ep_date = datetime.datetime.strptime(ep_text,'\\n%Y\\n')\n",
    "    return ep_date.date()"
   ]
  },
  {
   "cell_type": "code",
   "execution_count": 26,
   "metadata": {},
   "outputs": [
    {
     "name": "stdout",
     "output_type": "stream",
     "text": [
      "https://www.imdb.com/title/tt1632701/episodes?year=2018\n",
      "Last Episode was streamed on 19 September 2018\n"
     ]
    }
   ],
   "source": [
    "# def get_final_mail(tv_series_title):\n",
    "now_date = datetime.datetime.now().date()\n",
    "current_year = now_date.year\n",
    "current_month = now_date.month\n",
    "current_day = now_date.day\n",
    "episode_list_page_soup = get_episodes_page('suits ', current_year)\n",
    "\n",
    "year_at_page = int(episode_list_page_soup.find('h3',{'id':'episode_top', 'itemprop':'name'}).text)\n",
    "\n",
    "if year_at_page < current_year:\n",
    "    print(\"The show has finished streaming its episodes in {}\".format(year_at_page))\n",
    "elif year_at_page > current_year:\n",
    "    print(\"The next season of the tv series airs in {}\".format(year_at_page))\n",
    "else:\n",
    "    list_ep = episode_list_page_soup.findAll('div',{'class':'airdate'})\n",
    "    for ep in list_ep:\n",
    "        ep_date = get_ep_date(ep)\n",
    "        if ep_date>=now_date:\n",
    "            print(\"Next Episode would stream on {} {} {}\".format(ep_date.day, ep_date.strftime('%B'), ep_date.year))\n",
    "            break\n",
    "    else:    \n",
    "        print(\"Last Episode was streamed on {} {} {}\".format(ep_date.day, ep_date.strftime('%B'), ep_date.year))\n",
    "\n",
    "            "
   ]
  },
  {
   "cell_type": "code",
   "execution_count": null,
   "metadata": {},
   "outputs": [],
   "source": []
  }
 ],
 "metadata": {
  "kernelspec": {
   "display_name": "Python 3",
   "language": "python",
   "name": "python3"
  },
  "language_info": {
   "codemirror_mode": {
    "name": "ipython",
    "version": 3
   },
   "file_extension": ".py",
   "mimetype": "text/x-python",
   "name": "python",
   "nbconvert_exporter": "python",
   "pygments_lexer": "ipython3",
   "version": "3.6.5"
  }
 },
 "nbformat": 4,
 "nbformat_minor": 2
}
