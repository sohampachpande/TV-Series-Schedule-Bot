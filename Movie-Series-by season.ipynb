{
 "cells": [
  {
   "cell_type": "code",
   "execution_count": 66,
   "metadata": {},
   "outputs": [],
   "source": [
    "import requests\n",
    "import sqlite3 as sql\n",
    "import bs4 as bs\n",
    "import re\n",
    "import datetime \n",
    "\n",
    "base_url = 'https://www.imdb.com'"
   ]
  },
  {
   "cell_type": "code",
   "execution_count": 67,
   "metadata": {},
   "outputs": [
    {
     "data": {
      "text/plain": [
       "<sqlite3.Cursor at 0x7f6f0af657a0>"
      ]
     },
     "execution_count": 67,
     "metadata": {},
     "output_type": "execute_result"
    }
   ],
   "source": [
    "# Create a database to store queries\n",
    "# Use Variables to store all table names for portability.\n",
    "table_name = 'TVSeries'\n",
    "column_names = {table_name:['USER_EMAIL','TVSERIES']}\n",
    "database_name='user_tv_series.db'\n",
    "\n",
    "conn = sql.connect(database_name)\n",
    "cur = conn.cursor()\n",
    "cur.execute('CREATE TABLE IF NOT EXISTS {}'.format(table_name)+'({0} TEXT NOT NULL,{1} TEXT)'.format(*column_names[table_name]))"
   ]
  },
  {
   "cell_type": "code",
   "execution_count": 68,
   "metadata": {},
   "outputs": [],
   "source": [
    "# take input\n",
    "email = 'soham'# input(\"Enter email address:\")\n",
    "tv_string = 'Game of thrones, suits, friends, black mirror, gotham' # input(\"Enter TV series names seperated by a string\")"
   ]
  },
  {
   "cell_type": "code",
   "execution_count": 69,
   "metadata": {},
   "outputs": [],
   "source": [
    "tv_string = tv_string.replace(' ','+')\n",
    "tv_list = tv_string.split(',')"
   ]
  },
  {
   "cell_type": "code",
   "execution_count": 70,
   "metadata": {},
   "outputs": [],
   "source": [
    "def search_tv_series_soup(tv_series_title):\n",
    "    search_link = base_url + '/search/title'\n",
    "    params = {'title':tv_series_title,'title_type':'tv_series'}\n",
    "    tvr = requests.request('GET', url = search_link, params = params)\n",
    "    tvr_soup = bs.BeautifulSoup(tvr.text,'lxml')\n",
    "    return tvr_soup"
   ]
  },
  {
   "cell_type": "code",
   "execution_count": 71,
   "metadata": {},
   "outputs": [],
   "source": [
    "# This function returns link to the page of given tv series.\n",
    "def find_tv_series_page_link(tv_series_title):\n",
    "    if type(tv_series_title)!= str:\n",
    "        print('Invalid argument data type passed to find_link function')\n",
    "    \n",
    "    # get search results in html\n",
    "    tvr_soup = search_tv_series_soup(tv_series_title)\n",
    "    tv_temp = tv_series_title.lower().replace('+','')\n",
    "    tv_temp = tv_series_title.lower().replace(' ','')\n",
    "    for a in tvr_soup.findAll('a', href= True):\n",
    "        stemp = str(a.string)\n",
    "        if tv_temp in stemp.lower().replace(' ',''):\n",
    "            link = a['href']\n",
    "            break\n",
    "    return base_url+link[0:link.find('?')-1]"
   ]
  },
  {
   "cell_type": "code",
   "execution_count": 72,
   "metadata": {},
   "outputs": [
    {
     "data": {
      "text/plain": [
       "'https://www.imdb.com/title/tt0108778'"
      ]
     },
     "execution_count": 72,
     "metadata": {},
     "output_type": "execute_result"
    }
   ],
   "source": [
    "find_tv_series_page_link('friends   ')\n",
    " "
   ]
  },
  {
   "cell_type": "code",
   "execution_count": 73,
   "metadata": {},
   "outputs": [],
   "source": [
    "def get_episodes_page(tv_series_title, s=-1):\n",
    "    link = find_tv_series_page_link(tv_series_title)\n",
    "    params = {'season': s}\n",
    "    eps_resp = requests.request('GET', link + '/episodes', params = params)\n",
    "#     print(eps_resp.url)\n",
    "    eps_soup = bs.BeautifulSoup(eps_resp.text, 'lxml')\n",
    "    return eps_soup\n",
    "a = get_episodes_page('friends')"
   ]
  },
  {
   "cell_type": "code",
   "execution_count": 74,
   "metadata": {},
   "outputs": [],
   "source": [
    "# This function gets episode date in datetime format from the html value passed to it\n",
    "def get_ep_date(ep):\n",
    "    ep_text = ep.text.replace(' ','')\n",
    "    list_ep_date = ep_text.split()[0]\n",
    "    try:\n",
    "        ep_date = datetime.datetime.strptime(ep_text,'\\n%d%b.%Y\\n')\n",
    "    except ValueError:\n",
    "        try:\n",
    "            ep_date = datetime.datetime.strptime(ep_text,'\\n%d%b%Y\\n')\n",
    "        except ValueError:\n",
    "            ep_date = datetime.datetime.strptime(ep_text,'\\n%Y\\n')\n",
    "    return ep_date.date()"
   ]
  },
  {
   "cell_type": "code",
   "execution_count": 75,
   "metadata": {},
   "outputs": [],
   "source": [
    "def get_final_schedule(tv_series_title):\n",
    "    now_date = datetime.datetime.now().date()\n",
    "    episode_list_page_soup = get_episodes_page(tv_series_title)\n",
    "\n",
    "    list_ep = episode_list_page_soup.findAll('div',{'class':'airdate'})\n",
    "    i = -1\n",
    "    while len(list_ep[i].string)<=1:\n",
    "        i -=1\n",
    "    last_ep_date = get_ep_date(list_ep[i])\n",
    "    first_ep_date = get_ep_date(list_ep[0])\n",
    "    if last_ep_date<now_date:\n",
    "        return (\"The tv series- {} has finished streaming its episodes in {} {}\".format(tv_series_title, last_ep_date.strftime('%B'), last_ep_date.year))\n",
    "    elif first_ep_date>now_date:\n",
    "        return (\"The next season of the tv series- {} begins in {}\".format(tv_series_title, first_ep_date.year))\n",
    "    else:\n",
    "        for ep in list_ep:\n",
    "            ep_date = get_ep_date(ep)\n",
    "            if ep_date>=now_date:\n",
    "                return(\"Next Episode of {} would stream on {} {} {}\".format(tv_series_title, ep_date.day, ep_date.strftime('%B'), ep_date.year))  \n",
    "        return (\"The tv series- {} has finished streaming its episodes in {} {}\".format(tv_series_title, ep_date.strftime('%B'), ep_date.year))"
   ]
  },
  {
   "cell_type": "code",
   "execution_count": 76,
   "metadata": {},
   "outputs": [
    {
     "data": {
      "text/plain": [
       "'The next season of the tv series- game of thrones begins in 2019'"
      ]
     },
     "execution_count": 76,
     "metadata": {},
     "output_type": "execute_result"
    }
   ],
   "source": [
    "get_final_schedule('game of thrones')"
   ]
  },
  {
   "cell_type": "code",
   "execution_count": null,
   "metadata": {},
   "outputs": [],
   "source": []
  }
 ],
 "metadata": {
  "kernelspec": {
   "display_name": "Python 3",
   "language": "python",
   "name": "python3"
  },
  "language_info": {
   "codemirror_mode": {
    "name": "ipython",
    "version": 3
   },
   "file_extension": ".py",
   "mimetype": "text/x-python",
   "name": "python",
   "nbconvert_exporter": "python",
   "pygments_lexer": "ipython3",
   "version": "3.6.5"
  }
 },
 "nbformat": 4,
 "nbformat_minor": 2
}
